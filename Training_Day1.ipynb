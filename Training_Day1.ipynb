{
  "nbformat": 4,
  "nbformat_minor": 0,
  "metadata": {
    "colab": {
      "provenance": [],
      "authorship_tag": "ABX9TyOY22bj7Bpkx+roQm6sx/Hl",
      "include_colab_link": true
    },
    "kernelspec": {
      "name": "python3",
      "display_name": "Python 3"
    },
    "language_info": {
      "name": "python"
    }
  },
  "cells": [
    {
      "cell_type": "markdown",
      "metadata": {
        "id": "view-in-github",
        "colab_type": "text"
      },
      "source": [
        "<a href=\"https://colab.research.google.com/github/benitya/pythonlecs/blob/main/Training_Day1.ipynb\" target=\"_parent\"><img src=\"https://colab.research.google.com/assets/colab-badge.svg\" alt=\"Open In Colab\"/></a>"
      ]
    },
    {
      "cell_type": "code",
      "source": [
        "data= input(\"enter\")\n"
      ],
      "metadata": {
        "colab": {
          "base_uri": "https://localhost:8080/"
        },
        "id": "SkIW_o0GPwV2",
        "outputId": "bd0263f5-faab-478c-f411-006d2ede2034"
      },
      "execution_count": 4,
      "outputs": [
        {
          "name": "stdout",
          "output_type": "stream",
          "text": [
            "enterenter\n"
          ]
        }
      ]
    },
    {
      "cell_type": "code",
      "source": [
        "print(data,type(data))"
      ],
      "metadata": {
        "colab": {
          "base_uri": "https://localhost:8080/"
        },
        "id": "fsbQkcPwP2j-",
        "outputId": "5c5e598b-9916-4a07-9037-4955e4373224"
      },
      "execution_count": 5,
      "outputs": [
        {
          "output_type": "stream",
          "name": "stdout",
          "text": [
            "enter <class 'str'>\n"
          ]
        }
      ]
    },
    {
      "cell_type": "code",
      "source": [
        "data= int(input(\"enter : \"))\n",
        "print (data, type(data))"
      ],
      "metadata": {
        "colab": {
          "base_uri": "https://localhost:8080/"
        },
        "id": "AEa9qpvIQBT3",
        "outputId": "f88e8174-3f61-4818-b695-fd5f23d70faa"
      },
      "execution_count": 7,
      "outputs": [
        {
          "output_type": "stream",
          "name": "stdout",
          "text": [
            "enter : 45\n",
            "45 <class 'int'>\n"
          ]
        }
      ]
    },
    {
      "cell_type": "code",
      "source": [
        "data= float(input(\"enter float only : \"))\n",
        "print (data, type(data))"
      ],
      "metadata": {
        "colab": {
          "base_uri": "https://localhost:8080/"
        },
        "id": "KPnTnRLJQq18",
        "outputId": "ce45d431-cc27-45ed-acc1-d24308d2bc5e"
      },
      "execution_count": 8,
      "outputs": [
        {
          "output_type": "stream",
          "name": "stdout",
          "text": [
            "enter float only : 12.5\n",
            "12.5 <class 'float'>\n"
          ]
        }
      ]
    },
    {
      "cell_type": "code",
      "source": [
        "data= float(input(\"enter float only : \"))\n",
        "print (data, type(data))"
      ],
      "metadata": {
        "colab": {
          "base_uri": "https://localhost:8080/"
        },
        "id": "mEmAenpnQxoZ",
        "outputId": "462a10ab-4d6c-4bbd-cdf3-c1023fd1267b"
      },
      "execution_count": 9,
      "outputs": [
        {
          "output_type": "stream",
          "name": "stdout",
          "text": [
            "enter float only : 10.0\n",
            "10.0 <class 'float'>\n"
          ]
        }
      ]
    },
    {
      "cell_type": "markdown",
      "source": [
        "variables ke naam vo rakho jo samjhe  \n",
        "what are variables?  \n",
        "what is tokenization  what are the ways of commenting in python_  \n",
        "multiline tripple quotes  \n",
        "# hashtag (#)- for single line of comment  \n",
        "\n"
      ],
      "metadata": {
        "id": "tF6uK_jgQ7iL"
      }
    },
    {
      "cell_type": "code",
      "source": [
        "a=10\n",
        "print(a)\n",
        "print(\"thsi is it\")\n",
        "print(a,\"is a\") # comma adds a blank space, it is used for separation"
      ],
      "metadata": {
        "colab": {
          "base_uri": "https://localhost:8080/"
        },
        "id": "06ZLmQRkRv3F",
        "outputId": "f271e19d-8612-41eb-83a0-b509c32bbce5"
      },
      "execution_count": 13,
      "outputs": [
        {
          "output_type": "stream",
          "name": "stdout",
          "text": [
            "10\n",
            "thsi is it\n",
            "10 is a\n"
          ]
        }
      ]
    },
    {
      "cell_type": "code",
      "source": [
        "a=10\n",
        "b=20\n",
        "# a is 10 and 20 is b\n",
        "print(\"a is\",a,\" and b is\",b,)\n",
        "#print 10 is a and 20 is b\n",
        "print(a,\"is a and \",b, \"is b\")\n",
        "#print 10+20=30\n",
        "print(a,\"+\",b,\"=\",(a+b))"
      ],
      "metadata": {
        "colab": {
          "base_uri": "https://localhost:8080/"
        },
        "id": "gsQkis22R3TM",
        "outputId": "dcc75b96-5fc2-47ad-b0c6-ac0edf25acb9"
      },
      "execution_count": 24,
      "outputs": [
        {
          "output_type": "stream",
          "name": "stdout",
          "text": [
            "a is 10  and b is 20\n",
            "10 is a and  20 is b\n",
            "10 + 20 = 30\n"
          ]
        }
      ]
    },
    {
      "cell_type": "code",
      "source": [
        "print(\"Line 1\")\n",
        "print(\"line 2\")\n",
        "print(\"line 3\")\n",
        "\n",
        "print(\"Line 1\",end=\".\")\n",
        "print(\"line 2\",end=\"@\")\n",
        "print(\"line 3\",end=\"#\")"
      ],
      "metadata": {
        "colab": {
          "base_uri": "https://localhost:8080/"
        },
        "id": "Qfkl80C5T5dC",
        "outputId": "b79ecf34-50ea-4da2-854f-ebbcdd668df6"
      },
      "execution_count": 26,
      "outputs": [
        {
          "output_type": "stream",
          "name": "stdout",
          "text": [
            "Line 1\n",
            "line 2\n",
            "line 3\n",
            "Line 1.line 2@line 3#"
          ]
        }
      ]
    },
    {
      "cell_type": "code",
      "source": [
        "a=10\n",
        "b=20\n",
        "c=30\n",
        "print(a,b,c,sep=\"#####\")\n",
        "\n",
        "a=10\n",
        "b=20\n",
        "c=30\n",
        "print(a,b,c,sep=\"    \")\n"
      ],
      "metadata": {
        "colab": {
          "base_uri": "https://localhost:8080/"
        },
        "id": "HA9A-OMsUYFW",
        "outputId": "647eeae5-77cd-4c78-a2ed-f1d0193ba284"
      },
      "execution_count": 29,
      "outputs": [
        {
          "output_type": "stream",
          "name": "stdout",
          "text": [
            "10#####20#####30\n",
            "10    20    30\n"
          ]
        }
      ]
    },
    {
      "cell_type": "code",
      "source": [
        "#what is diff bet declaration and dynamic initialization- python supports dynamic initialization\n",
        "int a; #initialization\n",
        "\n",
        "a=10; #declaration\n",
        "\n",
        "int a=10; #dynamic init"
      ],
      "metadata": {
        "colab": {
          "base_uri": "https://localhost:8080/",
          "height": 144
        },
        "id": "ASMi822vUxq0",
        "outputId": "4a9054f3-0171-4ce4-969d-be690a0e298b"
      },
      "execution_count": 33,
      "outputs": [
        {
          "output_type": "error",
          "ename": "SyntaxError",
          "evalue": "ignored",
          "traceback": [
            "\u001b[0;36m  File \u001b[0;32m\"<ipython-input-33-bcb3fecc51d4>\"\u001b[0;36m, line \u001b[0;32m2\u001b[0m\n\u001b[0;31m    int a; #initialization\u001b[0m\n\u001b[0m        ^\u001b[0m\n\u001b[0;31mSyntaxError\u001b[0m\u001b[0;31m:\u001b[0m invalid syntax\n"
          ]
        }
      ]
    },
    {
      "cell_type": "code",
      "source": [
        "a=10"
      ],
      "metadata": {
        "id": "vr7P_bv3VwO3"
      },
      "execution_count": 32,
      "outputs": []
    },
    {
      "cell_type": "code",
      "source": [
        "#chained assignment\n",
        "a=b=c=10"
      ],
      "metadata": {
        "id": "kBi3N1RyV1dw"
      },
      "execution_count": null,
      "outputs": []
    },
    {
      "cell_type": "code",
      "source": [
        "\n",
        "#paired assignment\n",
        "a,b,c=10,13.4,\"amar\"  #a=10,c=13,c=14"
      ],
      "metadata": {
        "id": "zxkG8WBiWWtZ"
      },
      "execution_count": null,
      "outputs": []
    },
    {
      "cell_type": "code",
      "source": [
        "#code for swapping content of 2 variables\n",
        "#for a=10 b=20\n",
        "A = int( input(\"Please enter value for A: \"))\n",
        "B = int( input(\"Please enter value for B: \"))\n",
        "A, B = B, A\n",
        "\n",
        "print (\"The Value of A after swapping: \", A)\n",
        "print (\"The Value of B after swapping: \", B)\n",
        "\n"
      ],
      "metadata": {
        "colab": {
          "base_uri": "https://localhost:8080/"
        },
        "id": "OVYQRL7-Wax8",
        "outputId": "fb70ec01-b143-4011-cec4-3ace9943f028"
      },
      "execution_count": 36,
      "outputs": [
        {
          "output_type": "stream",
          "name": "stdout",
          "text": [
            "Please enter value for A: 20\n",
            "Please enter value for B: 10\n",
            "The Value of A after swapping:  10\n",
            "The Value of B after swapping:  20\n"
          ]
        }
      ]
    },
    {
      "cell_type": "code",
      "source": [
        "data=bool(input(\"Enter:\"))\n",
        "print(data,type(data))\n",
        "#presence of info true and absence is false\n",
        "#what is the significance of power symbol- combinations of zeros and ones"
      ],
      "metadata": {
        "colab": {
          "base_uri": "https://localhost:8080/"
        },
        "id": "4Yao10m_XlYS",
        "outputId": "8155e76b-8fb2-4e57-a737-2e36555eaa6c"
      },
      "execution_count": 40,
      "outputs": [
        {
          "output_type": "stream",
          "name": "stdout",
          "text": [
            "Enter:\n",
            "False <class 'bool'>\n"
          ]
        }
      ]
    },
    {
      "cell_type": "code",
      "source": [
        "data=bool(input(\"Enter:\"))\n",
        "print(data,type(data))"
      ],
      "metadata": {
        "colab": {
          "base_uri": "https://localhost:8080/"
        },
        "id": "IP8qvCnHX-wf",
        "outputId": "f29a8d10-f2b6-4db1-8762-649a30076573"
      },
      "execution_count": 41,
      "outputs": [
        {
          "output_type": "stream",
          "name": "stdout",
          "text": [
            "Enter:false\n",
            "True <class 'bool'>\n"
          ]
        }
      ]
    },
    {
      "cell_type": "markdown",
      "source": [
        "we do not have increment and decrement operators in python\n",
        "\n",
        "1.   arithmetic +,-,*,/,modulus, exponential\n",
        "  highest- **\n"
      ],
      "metadata": {
        "id": "xshCd-78YGte"
      }
    },
    {
      "cell_type": "code",
      "source": [
        "5+2*3-1\n",
        "5%3"
      ],
      "metadata": {
        "colab": {
          "base_uri": "https://localhost:8080/"
        },
        "id": "tL5NCrR9YRUN",
        "outputId": "abc31dc3-a519-4587-9208-94e78b49f8d7"
      },
      "execution_count": 43,
      "outputs": [
        {
          "output_type": "execute_result",
          "data": {
            "text/plain": [
              "2"
            ]
          },
          "metadata": {},
          "execution_count": 43
        }
      ]
    },
    {
      "cell_type": "code",
      "source": [
        "17%13"
      ],
      "metadata": {
        "colab": {
          "base_uri": "https://localhost:8080/"
        },
        "id": "C01z6CCeZQQI",
        "outputId": "94de9d67-f83f-4b4f-d33b-87b5aa0e70c5"
      },
      "execution_count": 44,
      "outputs": [
        {
          "output_type": "execute_result",
          "data": {
            "text/plain": [
              "4"
            ]
          },
          "metadata": {},
          "execution_count": 44
        }
      ]
    },
    {
      "cell_type": "code",
      "source": [
        "17%30\n",
        "#17 is smaller than 30 mod mei hamesh aanswer is remainder"
      ],
      "metadata": {
        "colab": {
          "base_uri": "https://localhost:8080/"
        },
        "id": "FA1nLkijZX7k",
        "outputId": "29adf2b6-4e20-4383-fe4a-e6b24f3806e3"
      },
      "execution_count": 45,
      "outputs": [
        {
          "output_type": "execute_result",
          "data": {
            "text/plain": [
              "17"
            ]
          },
          "metadata": {},
          "execution_count": 45
        }
      ]
    },
    {
      "cell_type": "code",
      "source": [
        "# / is float div\n",
        "print(\"5/2:\",5/2)\n",
        "# // floor div  int div\n",
        "print(\"5//2\",5//2)"
      ],
      "metadata": {
        "colab": {
          "base_uri": "https://localhost:8080/"
        },
        "id": "441d7-jGZuD_",
        "outputId": "f04d9101-153f-4ac8-9f02-1ca3a49e4ea5"
      },
      "execution_count": 47,
      "outputs": [
        {
          "output_type": "stream",
          "name": "stdout",
          "text": [
            "5/2: 2.5\n",
            "5//2 2\n"
          ]
        }
      ]
    },
    {
      "cell_type": "code",
      "source": [
        "print(\"2**3=\",2**3)"
      ],
      "metadata": {
        "colab": {
          "base_uri": "https://localhost:8080/"
        },
        "id": "hXSOKe6laEOk",
        "outputId": "6acb5d5f-3035-4265-d1f7-083e92bd4284"
      },
      "execution_count": 50,
      "outputs": [
        {
          "output_type": "stream",
          "name": "stdout",
          "text": [
            "2**3= 8\n"
          ]
        }
      ]
    },
    {
      "cell_type": "code",
      "source": [
        "121**0.5"
      ],
      "metadata": {
        "colab": {
          "base_uri": "https://localhost:8080/"
        },
        "id": "qxllEqPSaLva",
        "outputId": "16459d1e-2534-4740-c699-c23542a7db15"
      },
      "execution_count": 49,
      "outputs": [
        {
          "output_type": "execute_result",
          "data": {
            "text/plain": [
              "11.0"
            ]
          },
          "metadata": {},
          "execution_count": 49
        }
      ]
    },
    {
      "cell_type": "code",
      "source": [
        "1.5%0.5\n",
        "#mod wrks on fractions as well"
      ],
      "metadata": {
        "colab": {
          "base_uri": "https://localhost:8080/"
        },
        "id": "xfwZBeekaSfZ",
        "outputId": "69cdc707-b6ec-4751-fe56-05ac414d61f4"
      },
      "execution_count": 51,
      "outputs": [
        {
          "output_type": "execute_result",
          "data": {
            "text/plain": [
              "0.0"
            ]
          },
          "metadata": {},
          "execution_count": 51
        }
      ]
    },
    {
      "cell_type": "markdown",
      "source": [
        "deep memory handling"
      ],
      "metadata": {
        "id": "9LFQnWEnaa3U"
      }
    },
    {
      "cell_type": "code",
      "source": [
        "a=10\n",
        "print(\"a is at\",id(a))\n",
        "b=14-4\n",
        "print(\" b is at\",id(b))\n",
        "b=2*5\n",
        "print(\" c is at\",id(c))\n",
        "a=a-3\n",
        "print(\" a is at\",id(a))\n",
        "b=b-3\n",
        "print(\" b is at\",id(b))\n",
        "c=c-3\n",
        "print(\" c is at\",id(c))\n",
        "#python will share memory for common data\n",
        "#out put shows location -i.e memory location\n",
        "#python has AGC-AUTO GARBAGE COLLECTION-\n",
        "#PVC will be running agc\n",
        "#pyhton will not updat eold mem location will give new mem\n",
        "#those mem blocks will be given to agc"
      ],
      "metadata": {
        "colab": {
          "base_uri": "https://localhost:8080/"
        },
        "id": "Y93V_BJoai_L",
        "outputId": "3f3a9887-cd5f-4950-8378-9c4d59029f28"
      },
      "execution_count": 55,
      "outputs": [
        {
          "output_type": "stream",
          "name": "stdout",
          "text": [
            "a is at 133367945642512\n",
            " b is at 133367945642512\n",
            " c is at 133367945643152\n",
            " a is at 133367945642416\n",
            " b is at 133367945642416\n",
            " c is at 133367945643056\n"
          ]
        }
      ]
    },
    {
      "cell_type": "code",
      "source": [
        "a=1\n"
      ],
      "metadata": {
        "colab": {
          "base_uri": "https://localhost:8080/"
        },
        "id": "MZTLLx6FcHw6",
        "outputId": "be26cc0b-e275-4649-daf1-d1274adff7b7"
      },
      "execution_count": 56,
      "outputs": [
        {
          "output_type": "stream",
          "name": "stdout",
          "text": [
            "2\n"
          ]
        }
      ]
    },
    {
      "cell_type": "code",
      "source": [
        "a+=1 #a=a+1\n",
        "print(a)"
      ],
      "metadata": {
        "colab": {
          "base_uri": "https://localhost:8080/"
        },
        "id": "k1-YGdl0cSrW",
        "outputId": "6a0d9603-c8f9-4280-9152-ef235e0f1b54"
      },
      "execution_count": 57,
      "outputs": [
        {
          "output_type": "stream",
          "name": "stdout",
          "text": [
            "3\n"
          ]
        }
      ]
    },
    {
      "cell_type": "code",
      "source": [
        "a+=4\n",
        "print(a)"
      ],
      "metadata": {
        "colab": {
          "base_uri": "https://localhost:8080/"
        },
        "id": "CWqT8xbZcZzf",
        "outputId": "ba4c41e9-0fed-459f-f408-f8f1d43fa06c"
      },
      "execution_count": 58,
      "outputs": [
        {
          "output_type": "stream",
          "name": "stdout",
          "text": [
            "7\n"
          ]
        }
      ]
    },
    {
      "cell_type": "code",
      "source": [
        "#python does not have inc n dec operators but has short hand operators\n",
        "#memory handling in python-read\n"
      ],
      "metadata": {
        "id": "3pot__cicvbB"
      },
      "execution_count": null,
      "outputs": []
    }
  ]
}